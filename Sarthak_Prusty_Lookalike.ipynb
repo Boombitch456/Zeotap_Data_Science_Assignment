{
 "cells": [
  {
   "cell_type": "code",
   "execution_count": 1,
   "id": "9f6ec7de",
   "metadata": {},
   "outputs": [
    {
     "name": "stdout",
     "output_type": "stream",
     "text": [
      "Lookalike recommendations saved to Sarthak_Prusty_Lookalike.csv\n"
     ]
    }
   ],
   "source": [
    "# Import libraries\n",
    "import pandas as pd\n",
    "from sklearn.metrics.pairwise import cosine_similarity\n",
    "from sklearn.preprocessing import StandardScaler\n",
    "\n",
    "# Load datasets\n",
    "customers = pd.read_csv('C:\\\\Users\\\\KIIT\\\\Downloads\\\\Customers.csv')\n",
    "products = pd.read_csv('C:\\\\Users\\\\KIIT\\\\Downloads\\\\Products.csv')\n",
    "transactions = pd.read_csv('C:\\\\Users\\\\KIIT\\\\Downloads\\\\Transactions.csv')\n",
    "\n",
    "# Merge datasets\n",
    "merged_data = transactions.merge(customers, on='CustomerID').merge(products, on='ProductID')\n",
    "\n",
    "# Feature Engineering: Create customer profiles\n",
    "customer_features = merged_data.groupby('CustomerID').agg(\n",
    "    TotalSpending=('TotalValue', 'sum'),\n",
    "    TransactionCount=('TransactionID', 'count'),\n",
    "    AvgTransactionValue=('TotalValue', 'mean')\n",
    ").reset_index()\n",
    "\n",
    "# Adding customer region as a feature\n",
    "region_dummies = pd.get_dummies(customers.set_index('CustomerID')['Region'], prefix='Region')\n",
    "customer_features = customer_features.merge(region_dummies, left_on='CustomerID', right_index=True)\n",
    "\n",
    "# Normalize features\n",
    "scaler = StandardScaler()\n",
    "normalized_features = scaler.fit_transform(customer_features.drop(columns=['CustomerID']))\n",
    "\n",
    "# Calculate similarity matrix\n",
    "similarity_matrix = cosine_similarity(normalized_features)\n",
    "\n",
    "# Create recommendations for customers C0001–C0020\n",
    "customer_ids = customer_features['CustomerID']\n",
    "recommendations = {}\n",
    "\n",
    "for i in range(20):  # First 20 customers (C0001 to C0020)\n",
    "    customer_index = i\n",
    "    similarity_scores = similarity_matrix[customer_index]\n",
    "    similar_customers = sorted(\n",
    "        list(zip(customer_ids, similarity_scores)),\n",
    "        key=lambda x: x[1],\n",
    "        reverse=True\n",
    "    )[1:4]  # Top 3 similar customers (excluding self)\n",
    "    recommendations[customer_ids.iloc[customer_index]] = similar_customers\n",
    "\n",
    "# Save recommendations to CSV\n",
    "recommendations_df = pd.DataFrame([\n",
    "    {'cust_id': k, 'lookalikes': [(x[0], round(x[1], 3)) for x in v]}\n",
    "    for k, v in recommendations.items()\n",
    "])\n",
    "recommendations_df.to_csv('Sarthak_Prusty_Lookalike.csv', index=False)\n",
    "\n",
    "print(\"Lookalike recommendations saved to Sarthak_Prusty_Lookalike.csv\")\n"
   ]
  },
  {
   "cell_type": "code",
   "execution_count": null,
   "id": "8ec6b2e0",
   "metadata": {},
   "outputs": [],
   "source": []
  }
 ],
 "metadata": {
  "kernelspec": {
   "display_name": "Python 3 (ipykernel)",
   "language": "python",
   "name": "python3"
  },
  "language_info": {
   "codemirror_mode": {
    "name": "ipython",
    "version": 3
   },
   "file_extension": ".py",
   "mimetype": "text/x-python",
   "name": "python",
   "nbconvert_exporter": "python",
   "pygments_lexer": "ipython3",
   "version": "3.11.4"
  }
 },
 "nbformat": 4,
 "nbformat_minor": 5
}
